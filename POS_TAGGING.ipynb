{
 "cells": [
  {
   "cell_type": "markdown",
   "id": "bcb4c3a1",
   "metadata": {},
   "source": [
    "# PART OF SPEECH TAGGING"
   ]
  },
  {
   "cell_type": "code",
   "execution_count": 1,
   "id": "bb2661bc",
   "metadata": {},
   "outputs": [],
   "source": [
    "import spacy"
   ]
  },
  {
   "cell_type": "code",
   "execution_count": 2,
   "id": "93518af1",
   "metadata": {},
   "outputs": [],
   "source": [
    "nlp=spacy.load(\"en_core_web_sm\")"
   ]
  },
  {
   "cell_type": "code",
   "execution_count": 3,
   "id": "bc5525e4",
   "metadata": {},
   "outputs": [
    {
     "name": "stdout",
     "output_type": "stream",
     "text": [
      "Elon | 96\n",
      "flew | 100\n",
      "to | 85\n",
      "mars | 92\n",
      "yesterday | 92\n",
      ". | 97\n",
      "He | 95\n",
      "carried | 100\n",
      "veg | 84\n",
      "biryani | 92\n",
      "with | 85\n",
      "him | 95\n"
     ]
    }
   ],
   "source": [
    "doc=nlp(\"Elon flew to mars yesterday. He carried veg biryani with him\")\n",
    "for token in doc:\n",
    "    print(token,\"|\",token.pos)"
   ]
  },
  {
   "cell_type": "code",
   "execution_count": 4,
   "id": "ee561100",
   "metadata": {},
   "outputs": [
    {
     "name": "stdout",
     "output_type": "stream",
     "text": [
      "Elon | PROPN\n",
      "flew | VERB\n",
      "to | ADP\n",
      "mars | NOUN\n",
      "yesterday | NOUN\n",
      ". | PUNCT\n",
      "He | PRON\n",
      "carried | VERB\n",
      "veg | ADJ\n",
      "biryani | NOUN\n",
      "with | ADP\n",
      "him | PRON\n"
     ]
    }
   ],
   "source": [
    "#token.pos will print just the number \n",
    "#token.pos_ will print part of speech\n",
    "for token in doc:\n",
    "    print(token,\"|\",token.pos_)"
   ]
  },
  {
   "cell_type": "code",
   "execution_count": 6,
   "id": "f7e09864",
   "metadata": {},
   "outputs": [
    {
     "name": "stdout",
     "output_type": "stream",
     "text": [
      "Elon | PROPN | proper noun\n",
      "flew | VERB | verb\n",
      "to | ADP | adposition\n",
      "mars | NOUN | noun\n",
      "yesterday | NOUN | noun\n",
      ". | PUNCT | punctuation\n",
      "He | PRON | pronoun\n",
      "carried | VERB | verb\n",
      "veg | ADJ | adjective\n",
      "biryani | NOUN | noun\n",
      "with | ADP | adposition\n",
      "him | PRON | pronoun\n"
     ]
    }
   ],
   "source": [
    "for token in doc:\n",
    "    print(token,\"|\",token.pos_,\"|\",spacy.explain(token.pos_))"
   ]
  },
  {
   "cell_type": "markdown",
   "id": "3b9a6be9",
   "metadata": {},
   "source": [
    "## Tags"
   ]
  },
  {
   "cell_type": "code",
   "execution_count": 12,
   "id": "f24a5cae",
   "metadata": {},
   "outputs": [
    {
     "name": "stdout",
     "output_type": "stream",
     "text": [
      "Wow  |  INTJ  |  interjection | UH  |  interjection\n",
      "!  |  PUNCT  |  punctuation | .  |  punctuation mark, sentence closer\n",
      "Dr.  |  PROPN  |  proper noun | NNP  |  noun, proper singular\n",
      "Strange  |  PROPN  |  proper noun | NNP  |  noun, proper singular\n",
      "made  |  VERB  |  verb | VBD  |  verb, past tense\n",
      "265  |  NUM  |  numeral | CD  |  cardinal number\n",
      "million  |  NUM  |  numeral | CD  |  cardinal number\n",
      "$  |  PUNCT  |  punctuation | -RRB-  |  right round bracket\n",
      "on  |  ADP  |  adposition | IN  |  conjunction, subordinating or preposition\n",
      "the  |  DET  |  determiner | DT  |  determiner\n",
      "very  |  ADV  |  adverb | RB  |  adverb\n",
      "first  |  ADJ  |  adjective | JJ  |  adjective (English), other noun-modifier (Chinese)\n",
      "day  |  NOUN  |  noun | NN  |  noun, singular or mass\n"
     ]
    }
   ],
   "source": [
    "doc = nlp(\"Wow! Dr. Strange made 265 million $ on the very first day\")\n",
    "\n",
    "for token in doc:\n",
    "    print(token,\" | \", token.pos_, \" | \",spacy.explain(token.pos_),\"|\", token.tag_, \" | \", spacy.explain(token.tag_))"
   ]
  },
  {
   "cell_type": "markdown",
   "id": "6125f163",
   "metadata": {},
   "source": [
    "## In below sentences Spacy figures out the past vs present tense for quit"
   ]
  },
  {
   "cell_type": "code",
   "execution_count": 14,
   "id": "025bbd9d",
   "metadata": {},
   "outputs": [
    {
     "name": "stdout",
     "output_type": "stream",
     "text": [
      "quits | VBZ | verb, 3rd person singular present\n"
     ]
    }
   ],
   "source": [
    "doc=nlp(\"He quits the job\")\n",
    "doc[1]\n",
    "print(doc[1].text,\"|\",doc[1].tag_,\"|\",spacy.explain(doc[1].tag_))"
   ]
  },
  {
   "cell_type": "code",
   "execution_count": 15,
   "id": "6f2a5b06",
   "metadata": {},
   "outputs": [
    {
     "name": "stdout",
     "output_type": "stream",
     "text": [
      "quit | VBD | verb, past tense\n"
     ]
    }
   ],
   "source": [
    "doc=nlp(\"He quit the job\")\n",
    "doc[1]\n",
    "print(doc[1].text,\"|\",doc[1].tag_,\"|\",spacy.explain(doc[1].tag_))"
   ]
  },
  {
   "cell_type": "markdown",
   "id": "d33c7ed6",
   "metadata": {},
   "source": [
    "## Removing all SPACE, PUNCT and X token from text"
   ]
  },
  {
   "cell_type": "markdown",
   "id": "eb07ae6d",
   "metadata": {},
   "source": [
    "#### Processing microsoft's earning report: https://www.microsoft.com/en-us/investor/earnings/fy-2022-q2/press-release-webcast"
   ]
  },
  {
   "cell_type": "code",
   "execution_count": 16,
   "id": "f5b567b0",
   "metadata": {},
   "outputs": [
    {
     "name": "stdout",
     "output_type": "stream",
     "text": [
      "Microsoft | PROPN | proper noun |\n",
      "Corp. | PROPN | proper noun |\n",
      "today | NOUN | noun |\n",
      "announced | VERB | verb |\n",
      "the | DET | determiner |\n",
      "following | VERB | verb |\n",
      "results | NOUN | noun |\n",
      "for | ADP | adposition |\n",
      "the | DET | determiner |\n",
      "quarter | NOUN | noun |\n",
      "ended | VERB | verb |\n",
      "December | PROPN | proper noun |\n",
      "31 | NUM | numeral |\n",
      ", | PUNCT | punctuation |\n",
      "2021 | NUM | numeral |\n",
      ", | PUNCT | punctuation |\n",
      "as | SCONJ | subordinating conjunction |\n",
      "compared | VERB | verb |\n",
      "to | ADP | adposition |\n",
      "the | DET | determiner |\n",
      "corresponding | ADJ | adjective |\n",
      "period | NOUN | noun |\n",
      "of | ADP | adposition |\n",
      "last | ADJ | adjective |\n",
      "fiscal | ADJ | adjective |\n",
      "year | NOUN | noun |\n",
      ": | PUNCT | punctuation |\n",
      "\n",
      "\n",
      " | SPACE | space |\n",
      "· | PUNCT | punctuation |\n",
      "         | SPACE | space |\n",
      "Revenue | PROPN | proper noun |\n",
      "was | AUX | auxiliary |\n",
      "$ | SYM | symbol |\n",
      "51.7 | NUM | numeral |\n",
      "billion | NUM | numeral |\n",
      "and | CCONJ | coordinating conjunction |\n",
      "increased | VERB | verb |\n",
      "20 | NUM | numeral |\n",
      "% | NOUN | noun |\n",
      "\n",
      " | SPACE | space |\n",
      "· | PUNCT | punctuation |\n",
      "         | SPACE | space |\n",
      "Operating | VERB | verb |\n",
      "income | NOUN | noun |\n",
      "was | AUX | auxiliary |\n",
      "$ | SYM | symbol |\n",
      "22.2 | NUM | numeral |\n",
      "billion | NUM | numeral |\n",
      "and | CCONJ | coordinating conjunction |\n",
      "increased | VERB | verb |\n",
      "24 | NUM | numeral |\n",
      "% | NOUN | noun |\n",
      "\n",
      " | SPACE | space |\n",
      "· | PUNCT | punctuation |\n",
      "         | SPACE | space |\n",
      "Net | ADJ | adjective |\n",
      "income | NOUN | noun |\n",
      "was | AUX | auxiliary |\n",
      "$ | SYM | symbol |\n",
      "18.8 | NUM | numeral |\n",
      "billion | NUM | numeral |\n",
      "and | CCONJ | coordinating conjunction |\n",
      "increased | VERB | verb |\n",
      "21 | NUM | numeral |\n",
      "% | NOUN | noun |\n",
      "\n",
      " | SPACE | space |\n",
      "· | PUNCT | punctuation |\n",
      "         | SPACE | space |\n",
      "Diluted | ADJ | adjective |\n",
      "earnings | NOUN | noun |\n",
      "per | ADP | adposition |\n",
      "share | NOUN | noun |\n",
      "was | AUX | auxiliary |\n",
      "$ | SYM | symbol |\n",
      "2.48 | NUM | numeral |\n",
      "and | CCONJ | coordinating conjunction |\n",
      "increased | VERB | verb |\n",
      "22 | NUM | numeral |\n",
      "% | NOUN | noun |\n",
      "\n",
      " | SPACE | space |\n",
      "“ | PUNCT | punctuation |\n",
      "Digital | PROPN | proper noun |\n",
      "technology | NOUN | noun |\n",
      "is | AUX | auxiliary |\n",
      "the | DET | determiner |\n",
      "most | ADV | adverb |\n",
      "malleable | ADJ | adjective |\n",
      "resource | NOUN | noun |\n",
      "at | ADP | adposition |\n",
      "the | DET | determiner |\n",
      "world | NOUN | noun |\n",
      "’s | PART | particle |\n",
      "disposal | NOUN | noun |\n",
      "to | PART | particle |\n",
      "overcome | VERB | verb |\n",
      "constraints | NOUN | noun |\n",
      "and | CCONJ | coordinating conjunction |\n",
      "reimagine | VERB | verb |\n",
      "everyday | ADJ | adjective |\n",
      "work | NOUN | noun |\n",
      "and | CCONJ | coordinating conjunction |\n",
      "life | NOUN | noun |\n",
      ", | PUNCT | punctuation |\n",
      "” | PUNCT | punctuation |\n",
      "said | VERB | verb |\n",
      "Satya | PROPN | proper noun |\n",
      "Nadella | PROPN | proper noun |\n",
      ", | PUNCT | punctuation |\n",
      "chairman | NOUN | noun |\n",
      "and | CCONJ | coordinating conjunction |\n",
      "chief | ADJ | adjective |\n",
      "executive | ADJ | adjective |\n",
      "officer | NOUN | noun |\n",
      "of | ADP | adposition |\n",
      "Microsoft | PROPN | proper noun |\n",
      ". | PUNCT | punctuation |\n",
      "“ | PUNCT | punctuation |\n",
      "As | ADV | adverb |\n",
      "tech | NOUN | noun |\n",
      "as | ADP | adposition |\n",
      "a | DET | determiner |\n",
      "percentage | NOUN | noun |\n",
      "of | ADP | adposition |\n",
      "global | ADJ | adjective |\n",
      "GDP | PROPN | proper noun |\n",
      "continues | VERB | verb |\n",
      "to | PART | particle |\n",
      "increase | VERB | verb |\n",
      ", | PUNCT | punctuation |\n",
      "we | PRON | pronoun |\n",
      "are | AUX | auxiliary |\n",
      "innovating | VERB | verb |\n",
      "and | CCONJ | coordinating conjunction |\n",
      "investing | VERB | verb |\n",
      "across | ADP | adposition |\n",
      "diverse | ADJ | adjective |\n",
      "and | CCONJ | coordinating conjunction |\n",
      "growing | VERB | verb |\n",
      "markets | NOUN | noun |\n",
      ", | PUNCT | punctuation |\n",
      "with | ADP | adposition |\n",
      "a | DET | determiner |\n",
      "common | ADJ | adjective |\n",
      "underlying | ADJ | adjective |\n",
      "technology | NOUN | noun |\n",
      "stack | NOUN | noun |\n",
      "and | CCONJ | coordinating conjunction |\n",
      "an | DET | determiner |\n",
      "operating | NOUN | noun |\n",
      "model | NOUN | noun |\n",
      "that | PRON | pronoun |\n",
      "reinforces | VERB | verb |\n",
      "a | DET | determiner |\n",
      "common | ADJ | adjective |\n",
      "strategy | NOUN | noun |\n",
      ", | PUNCT | punctuation |\n",
      "culture | NOUN | noun |\n",
      ", | PUNCT | punctuation |\n",
      "and | CCONJ | coordinating conjunction |\n",
      "sense | NOUN | noun |\n",
      "of | ADP | adposition |\n",
      "purpose | NOUN | noun |\n",
      ". | PUNCT | punctuation |\n",
      "” | PUNCT | punctuation |\n",
      "\n",
      " | SPACE | space |\n",
      "“ | PUNCT | punctuation |\n",
      "Solid | ADJ | adjective |\n",
      "commercial | ADJ | adjective |\n",
      "execution | NOUN | noun |\n",
      ", | PUNCT | punctuation |\n",
      "represented | VERB | verb |\n",
      "by | ADP | adposition |\n",
      "strong | ADJ | adjective |\n",
      "bookings | NOUN | noun |\n",
      "growth | NOUN | noun |\n",
      "driven | VERB | verb |\n",
      "by | ADP | adposition |\n",
      "long | ADJ | adjective |\n",
      "- | PUNCT | punctuation |\n",
      "term | NOUN | noun |\n",
      "Azure | PROPN | proper noun |\n",
      "commitments | NOUN | noun |\n",
      ", | PUNCT | punctuation |\n",
      "increased | VERB | verb |\n",
      "Microsoft | PROPN | proper noun |\n",
      "Cloud | PROPN | proper noun |\n",
      "revenue | NOUN | noun |\n",
      "to | ADP | adposition |\n",
      "$ | SYM | symbol |\n",
      "22.1 | NUM | numeral |\n",
      "billion | NUM | numeral |\n",
      ", | PUNCT | punctuation |\n",
      "up | ADV | adverb |\n",
      "32 | NUM | numeral |\n",
      "% | NOUN | noun |\n",
      "year | NOUN | noun |\n",
      "over | ADP | adposition |\n",
      "year | NOUN | noun |\n",
      "” | PUNCT | punctuation |\n",
      "said | VERB | verb |\n",
      "Amy | PROPN | proper noun |\n",
      "Hood | PROPN | proper noun |\n",
      ", | PUNCT | punctuation |\n",
      "executive | ADJ | adjective |\n",
      "vice | NOUN | noun |\n",
      "president | NOUN | noun |\n",
      "and | CCONJ | coordinating conjunction |\n",
      "chief | ADJ | adjective |\n",
      "financial | ADJ | adjective |\n",
      "officer | NOUN | noun |\n",
      "of | ADP | adposition |\n",
      "Microsoft | PROPN | proper noun |\n",
      ". | PUNCT | punctuation |\n"
     ]
    }
   ],
   "source": [
    "earnings_text=\"\"\"Microsoft Corp. today announced the following results for the quarter ended December 31, 2021, as compared to the corresponding period of last fiscal year:\n",
    "\n",
    "·         Revenue was $51.7 billion and increased 20%\n",
    "·         Operating income was $22.2 billion and increased 24%\n",
    "·         Net income was $18.8 billion and increased 21%\n",
    "·         Diluted earnings per share was $2.48 and increased 22%\n",
    "“Digital technology is the most malleable resource at the world’s disposal to overcome constraints and reimagine everyday work and life,” said Satya Nadella, chairman and chief executive officer of Microsoft. “As tech as a percentage of global GDP continues to increase, we are innovating and investing across diverse and growing markets, with a common underlying technology stack and an operating model that reinforces a common strategy, culture, and sense of purpose.”\n",
    "“Solid commercial execution, represented by strong bookings growth driven by long-term Azure commitments, increased Microsoft Cloud revenue to $22.1 billion, up 32% year over year” said Amy Hood, executive vice president and chief financial officer of Microsoft.\"\"\"\n",
    "\n",
    "doc = nlp(earnings_text)\n",
    "\n",
    "filtered_tokens = []\n",
    "\n",
    "for token in doc:\n",
    "    print(token,\"|\",token.pos_,\"|\",spacy.explain(token.pos_),\"|\")"
   ]
  },
  {
   "cell_type": "code",
   "execution_count": 17,
   "id": "22ac24f2",
   "metadata": {},
   "outputs": [],
   "source": [
    "#we have lots of space, X(for {etc}{.} kind of words)\n",
    "#we also have punctuations which we want to remove"
   ]
  },
  {
   "cell_type": "code",
   "execution_count": 18,
   "id": "7eac7a42",
   "metadata": {},
   "outputs": [],
   "source": [
    "for token in doc:\n",
    "    if token.pos_ not in [\"SPACE\", \"PUNCT\", \"X\"]:\n",
    "        filtered_tokens.append(token)"
   ]
  },
  {
   "cell_type": "code",
   "execution_count": 19,
   "id": "9c5a8894",
   "metadata": {},
   "outputs": [
    {
     "data": {
      "text/plain": [
       "[Microsoft,\n",
       " Corp.,\n",
       " today,\n",
       " announced,\n",
       " the,\n",
       " following,\n",
       " results,\n",
       " for,\n",
       " the,\n",
       " quarter]"
      ]
     },
     "execution_count": 19,
     "metadata": {},
     "output_type": "execute_result"
    }
   ],
   "source": [
    "filtered_tokens[:10]"
   ]
  },
  {
   "cell_type": "code",
   "execution_count": 20,
   "id": "95591f54",
   "metadata": {},
   "outputs": [
    {
     "data": {
      "text/plain": [
       "{96: 15,\n",
       " 92: 45,\n",
       " 100: 22,\n",
       " 90: 9,\n",
       " 85: 16,\n",
       " 93: 16,\n",
       " 97: 27,\n",
       " 98: 1,\n",
       " 84: 21,\n",
       " 103: 10,\n",
       " 87: 6,\n",
       " 99: 5,\n",
       " 89: 12,\n",
       " 86: 3,\n",
       " 94: 3,\n",
       " 95: 2}"
      ]
     },
     "execution_count": 20,
     "metadata": {},
     "output_type": "execute_result"
    }
   ],
   "source": [
    "#this will show the count of each POS in the text\n",
    "count = doc.count_by(spacy.attrs.POS)\n",
    "count"
   ]
  },
  {
   "cell_type": "code",
   "execution_count": 21,
   "id": "62ab216c",
   "metadata": {},
   "outputs": [
    {
     "data": {
      "text/plain": [
       "'PROPN'"
      ]
     },
     "execution_count": 21,
     "metadata": {},
     "output_type": "execute_result"
    }
   ],
   "source": [
    "doc.vocab[96].text\n",
    "#this shows the name of the POS"
   ]
  },
  {
   "cell_type": "code",
   "execution_count": 22,
   "id": "443ff712",
   "metadata": {},
   "outputs": [
    {
     "name": "stdout",
     "output_type": "stream",
     "text": [
      "PROPN | 15\n",
      "NOUN | 45\n",
      "VERB | 22\n",
      "DET | 9\n",
      "ADP | 16\n",
      "NUM | 16\n",
      "PUNCT | 27\n",
      "SCONJ | 1\n",
      "ADJ | 21\n",
      "SPACE | 10\n",
      "AUX | 6\n",
      "SYM | 5\n",
      "CCONJ | 12\n",
      "ADV | 3\n",
      "PART | 3\n",
      "PRON | 2\n"
     ]
    }
   ],
   "source": [
    "for k,v in count.items():\n",
    "    print(doc.vocab[k].text, \"|\",v)"
   ]
  }
 ],
 "metadata": {
  "kernelspec": {
   "display_name": "Python 3 (ipykernel)",
   "language": "python",
   "name": "python3"
  },
  "language_info": {
   "codemirror_mode": {
    "name": "ipython",
    "version": 3
   },
   "file_extension": ".py",
   "mimetype": "text/x-python",
   "name": "python",
   "nbconvert_exporter": "python",
   "pygments_lexer": "ipython3",
   "version": "3.9.7"
  }
 },
 "nbformat": 4,
 "nbformat_minor": 5
}
